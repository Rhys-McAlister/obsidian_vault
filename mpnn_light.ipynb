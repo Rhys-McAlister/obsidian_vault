{
 "cells": [
  {
   "cell_type": "markdown",
   "metadata": {},
   "source": [
    "# Graph Neural Networks\n",
    "\n",
    "## Graph Convolutions \n",
    "\n",
    "image credits: [source](https://uvadlc-notebooks.readthedocs.io/en/latest/tutorial_notebooks/tutorial7/GNN_overview.html)\n",
    "\n",
    "Graph convolutions operate similarly to convolutions found in machine vision models in that there is a 'filter' operation that occurs over all locations simultaneously. However, in graph convolutions, the filter operation is defined over the graph structure rather than a grid.\n",
    "\n",
    "Graph convolutional networks operate under a message passing framework, in which nodes can exchange information with its neighbours in that they send 'messages' to one another. The first step in this process is that each node has a feature vector that is representative of the message it will pass to its neigbouring nodes. FOllowing this, the messages are pased between neighbours such that each node has received one message per neighbour. \n",
    "\n",
    "![image.png](graph_message_passing.svg)\n",
    "\n",
    "As a given node may have a variable number of nodes, it is important that the function we use to combine these messages that a node has received can function regardless of the number of messages. The usual solution to this is to use the sum of the mean of the messages. \n",
    "\n",
    "$$H^{l+1} = \\sigma (\\hat{D}^{-\\frac{1}{2}}\\hat{A}\\hat{D}^{-\\frac{1}{2}}H^lW^l)$$\n",
    "\n",
    "Where $\\hat{A} = A + I$ is the adjacency matrix with self-connections added, $\\hat{D}$ is the degree matrix of $\\hat{A}$, $H^l$ is the matrix of node features at layer $l$, and $W^l$ is the weight matrix at layer $l$. \n",
    "\n",
    "$W^l$ is our weight parameters with which the input features are transformed into messages using the following expression: $H^{(l)} W^{(l)}$. $\\hat{A} is the adjacency matrix $A$ added with its identity matrix such that each node also sends its own message to itself. $\\hat{D}$ is the degree matrix of $\\hat{A}$, which is a diagonal matrix with the degree of each node on the diagonal, this allows us to take the average. $\\sigma$ is a non-linear activation function such as ReLU or tanh."
   ]
  },
  {
   "cell_type": "code",
   "execution_count": 36,
   "metadata": {},
   "outputs": [],
   "source": [
    "import pytorch_lightning as pl\n",
    "import torch\n",
    "import torch.nn.functional as F\n",
    "import torch.nn as nn\n",
    "import torch.optim as optim\n",
    "\n",
    "from torch_geometric.datasets import QM9\n",
    "from torch_geometric.data import DataLoader\n",
    "from torch_geometric.nn import NNConv, global_add_pool\n",
    "\n",
    "\n",
    "import torch_geometric\n",
    "import torch_geometric.loader as geom_data\n",
    "import torch_geometric.nn as geon_nn\n",
    "\n",
    "from pytorch_lightning.callbacks import ModelCheckpoint\n",
    "from torch import Tensor\n",
    "\n",
    "import networkx as nx\n",
    "import matplotlib.pyplot as plt"
   ]
  },
  {
   "cell_type": "code",
   "execution_count": 5,
   "metadata": {},
   "outputs": [],
   "source": [
    "class GCNLayer(nn.Module):\n",
    "    def __init__(self, in_channels, out_channels):\n",
    "        super().__init__()\n",
    "        self.projection = nn.Linear(in_channels, out_channels)\n",
    "\n",
    "    def forward(self, node_features, adj_matrix):\n",
    "        num_neighbors = adj_matrix.sum(dim=-1, keepdim=True)\n",
    "        node_features = self.projection(node_features)\n",
    "        node_features = torch.bmm(adj_matrix, node_features)\n",
    "        node_features = node_features / num_neighbors\n",
    "        return node_features"
   ]
  },
  {
   "cell_type": "markdown",
   "metadata": {},
   "source": [
    "Heres an example to see how this layer works by looking at how it operates on a set of node features and an adjacency matrix."
   ]
  },
  {
   "cell_type": "code",
   "execution_count": 6,
   "metadata": {},
   "outputs": [
    {
     "data": {
      "text/plain": [
       "tensor([[[0., 1.],\n",
       "         [2., 3.],\n",
       "         [4., 5.],\n",
       "         [6., 7.]]])"
      ]
     },
     "execution_count": 6,
     "metadata": {},
     "output_type": "execute_result"
    }
   ],
   "source": [
    "node_features = torch.arange(8, dtype = torch.float32).view(1,4,2)\n",
    "node_features"
   ]
  },
  {
   "cell_type": "code",
   "execution_count": 7,
   "metadata": {},
   "outputs": [
    {
     "data": {
      "text/plain": [
       "tensor([[[1., 1., 0., 0.],\n",
       "         [1., 1., 1., 1.],\n",
       "         [0., 1., 1., 1.],\n",
       "         [0., 1., 1., 1.]]])"
      ]
     },
     "execution_count": 7,
     "metadata": {},
     "output_type": "execute_result"
    }
   ],
   "source": [
    "adj_matrix = torch.tensor([[[1, 1, 0, 0],\n",
    "                            [1, 1, 1, 1],\n",
    "                            [0, 1, 1, 1],\n",
    "                            [0, 1, 1, 1]]], dtype=torch.float32)\n",
    "\n",
    "adj_matrix"
   ]
  },
  {
   "cell_type": "code",
   "execution_count": 8,
   "metadata": {},
   "outputs": [
    {
     "data": {
      "image/png": "[encoded data removed]",
      "text/plain": [
       "<Figure size 640x480 with 1 Axes>"
      ]
     },
     "metadata": {},
     "output_type": "display_data"
    }
   ],
   "source": [
    "g = nx.Graph()\n",
    "g.add_edge(1,2)\n",
    "g.add_edge(2,3)\n",
    "g.add_edge(3,4)\n",
    "g.add_edge(2,4)\n",
    "nx.draw(g, with_labels=True)"
   ]
  },
  {
   "cell_type": "code",
   "execution_count": 9,
   "metadata": {},
   "outputs": [
    {
     "data": {
      "text/plain": [
       "tensor([[[1., 2.],\n",
       "         [3., 4.],\n",
       "         [4., 5.],\n",
       "         [4., 5.]]])"
      ]
     },
     "execution_count": 9,
     "metadata": {},
     "output_type": "execute_result"
    }
   ],
   "source": [
    "layer = GCNLayer(2, 2)\n",
    "layer.projection.weight.data = torch.Tensor([[1., 0],  # <1>\n",
    "                                             [0, 1]])\n",
    "\n",
    "layer.projection.bias.data = torch.Tensor([0, 0])\n",
    "\n",
    "with torch.no_grad():\n",
    "    output_features = layer(node_features, adj_matrix)\n",
    "\n",
    "output_features"
   ]
  },
  {
   "cell_type": "markdown",
   "metadata": {},
   "source": [
    "1. NOte that the weight matrix in our linear layer has been set to an identity matrix. This allows us to easily examine how the message passing is occurring.\n",
    "\n",
    "Look back at the features associated with each node and you can see that the output value is the average of its values and its neighbours values.\n",
    "\n",
    "From this we can see that the message passing has occurred between a given node and its immediate neighbours, but it would be better if this operation could extend past the immediate neighbours. We can achieve this by using multiple GCN layers to propagate the messages further.\n",
    "\n",
    "## Graph classification\n",
    "\n",
    "Graph neural networks can be applied to node or edge level tasks however for chemistry graph level tasks such as graph classification seem to be most relevant so we'll look at this area for now.\n",
    "\n",
    "![image.png](molecule_graph.svg)\n",
    "\n",
    "We can represent molecules are graphs, in which our atoms are represented by nodes and the bonds as edges. \n",
    "\n"
   ]
  },
  {
   "cell_type": "code",
   "execution_count": 37,
   "metadata": {},
   "outputs": [
    {
     "name": "stderr",
     "output_type": "stream",
     "text": [
      "Downloading https://deepchemdata.s3-us-west-1.amazonaws.com/datasets/molnet_publish/qm9.zip\n",
      "Extracting ./raw/qm9.zip\n",
      "Downloading https://ndownloader.figshare.com/files/3195404\n",
      "Processing...\n",
      "100%|██████████| 133885/133885 [01:32<00:00, 1442.76it/s]\n",
      "Done!\n"
     ]
    }
   ],
   "source": [
    "dataset = QM9('.')"
   ]
  },
  {
   "cell_type": "code",
   "execution_count": 43,
   "metadata": {},
   "outputs": [
    {
     "data": {
      "text/plain": [
       "torch.Size([1, 19])"
      ]
     },
     "execution_count": 43,
     "metadata": {},
     "output_type": "execute_result"
    }
   ],
   "source": [
    "data = dataset[0]\n",
    "ys = data.y\n",
    "ys.shape"
   ]
  },
  {
   "cell_type": "code",
   "execution_count": 51,
   "metadata": {},
   "outputs": [],
   "source": [
    "from torch.utils.data import random_split\n",
    "trainset, valset, testset = random_split(dataset, [110000, 10831, 10000])"
   ]
  },
  {
   "cell_type": "markdown",
   "metadata": {},
   "source": [
    "Something to consider when using graph based approaches is how we can batch structures that can have a variable number of nodes and edges. One way you might think of is just padding every graph to be the same size as the largest but this would require alot of padding and would be inefficient. Instead we can use a technique called graph batching. In graph batching we can represent $N$ graphs as subgraphs of a a larger graph in which we have concatenated the node and edge list. As there are no connections (edges) between our subgraphs we yield the same output as we would when running our gnn across the individual graphs. "
   ]
  },
  {
   "cell_type": "code",
   "execution_count": 67,
   "metadata": {},
   "outputs": [
    {
     "name": "stderr",
     "output_type": "stream",
     "text": [
      "/home/rhysmcalister/mambaforge/envs/pyg/lib/python3.11/site-packages/torch_geometric/deprecation.py:22: UserWarning: 'data.DataLoader' is deprecated, use 'loader.DataLoader' instead\n",
      "  warnings.warn(out)\n"
     ]
    }
   ],
   "source": [
    "train_loader = geom_data.DataLoader(\n",
    "    trainset, \n",
    "    batch_size=64, \n",
    "    shuffle=True\n",
    "    )\n",
    "\n",
    "test_loader = geom_data.DataLoader(\n",
    "    testset, \n",
    "    batch_size=64, \n",
    "    shuffle=False\n",
    "    )\n",
    "\n",
    "val_loader = geom_data.DataLoader(\n",
    "    valset,\n",
    "    batch_size=64,\n",
    "    shuffle=True\n",
    "    )"
   ]
  },
  {
   "cell_type": "code",
   "execution_count": 68,
   "metadata": {},
   "outputs": [],
   "source": [
    "node_features = dataset.num_features\n",
    "edge_features = dataset.num_edge_features"
   ]
  },
  {
   "cell_type": "code",
   "execution_count": 69,
   "metadata": {},
   "outputs": [],
   "source": [
    "import torch_geometric.nn as geom_nn\n",
    "import torch_geometric.data as geom_data"
   ]
  },
  {
   "cell_type": "code",
   "execution_count": 70,
   "metadata": {},
   "outputs": [],
   "source": [
    "device = torch.device('cuda' if torch.cuda.is_available() else 'cpu')"
   ]
  },
  {
   "cell_type": "code",
   "execution_count": 71,
   "metadata": {},
   "outputs": [
    {
     "name": "stdout",
     "output_type": "stream",
     "text": [
      "GCN(\n",
      "  (conv1): NNConv(11, 32, aggr=add, nn=Sequential(\n",
      "    (0): Linear(in_features=4, out_features=32, bias=True)\n",
      "    (1): ReLU()\n",
      "    (2): Linear(in_features=32, out_features=352, bias=True)\n",
      "  ))\n",
      "  (conv2): NNConv(32, 16, aggr=add, nn=Sequential(\n",
      "    (0): Linear(in_features=4, out_features=32, bias=True)\n",
      "    (1): ReLU()\n",
      "    (2): Linear(in_features=32, out_features=512, bias=True)\n",
      "  ))\n",
      "  (fc1): Linear(in_features=16, out_features=32, bias=True)\n",
      "  (out): Linear(in_features=32, out_features=1, bias=True)\n",
      ")\n"
     ]
    }
   ],
   "source": [
    "from torch.nn import Linear\n",
    "import torch.nn.functional as F\n",
    "from torch_geometric.nn import GCNConv\n",
    "from torch_geometric.nn import global_mean_pool\n",
    "\n",
    "\n",
    "class GCN(torch.nn.Module):\n",
    "    def __init__(self, \n",
    "                 node_features, \n",
    "                 edge_features):\n",
    "        super().__init__()\n",
    "        torch.manual_seed(12345)\n",
    "        \n",
    "        conv1nn = nn.Sequential(\n",
    "            nn.Linear(edge_features, 32),\n",
    "            nn.ReLU(),\n",
    "            nn.Linear(32, node_features*32)\n",
    "        )\n",
    "\n",
    "        conv2nn = nn.Sequential(\n",
    "            nn.Linear(edge_features, 32),\n",
    "            nn.ReLU(),\n",
    "            nn.Linear(32, 32*16)\n",
    "        )\n",
    "\n",
    "        self.conv1 = NNConv(node_features, 32, conv1nn)\n",
    "        self.conv2 = NNConv(32, 16, conv2nn)\n",
    "        self.fc1 = Linear(16, 32)\n",
    "        self.out = nn.Linear(32, 1)\n",
    "        # self.conv1 = GCNConv(dataset.num_node_features, hidden_channels)\n",
    "        # self.conv2 = GCNConv(hidden_channels, hidden_channels)\n",
    "        # self.conv3 = GCNConv(hidden_channels, hidden_channels)\n",
    "        # self.lin = Linear(hidden_channels, dataset.num_classes)\n",
    "\n",
    "    def forward(self,data):\n",
    "        batch, x, edge_index, edge_attr = (\n",
    "            data.batch, data.x, data.edge_index, data.edge_attr\n",
    "        )\n",
    "\n",
    "        x = F.relu(self.conv1(x, edge_index, edge_attr))\n",
    "        x = F.relu(self.conv2(x, edge_index, edge_attr))\n",
    "        x = global_add_pool(x, batch)\n",
    "        x = F.relu(self.fc1(x))\n",
    "        return self.out(x)\n",
    "net = GCN(node_features=node_features, edge_features=edge_features)\n",
    "net.to(device)\n",
    "print(net)"
   ]
  },
  {
   "cell_type": "code",
   "execution_count": 76,
   "metadata": {},
   "outputs": [
    {
     "name": "stdout",
     "output_type": "stream",
     "text": [
      "Epochs: 0 | epoch avg. loss: 0.08 | validation avg. loss: 0.059\n",
      "Epochs: 1 | epoch avg. loss: 0.05 | validation avg. loss: 0.039\n",
      "Epochs: 2 | epoch avg. loss: 0.05 | validation avg. loss: 0.039\n",
      "Epochs: 3 | epoch avg. loss: 0.04 | validation avg. loss: 0.087\n",
      "Epochs: 4 | epoch avg. loss: 0.04 | validation avg. loss: 0.074\n",
      "Epochs: 5 | epoch avg. loss: 0.04 | validation avg. loss: 0.031\n",
      "Epochs: 6 | epoch avg. loss: 0.04 | validation avg. loss: 0.029\n",
      "Epochs: 7 | epoch avg. loss: 0.04 | validation avg. loss: 0.029\n",
      "Epochs: 8 | epoch avg. loss: 0.04 | validation avg. loss: 0.028\n",
      "Epochs: 9 | epoch avg. loss: 0.04 | validation avg. loss: 0.03\n"
     ]
    }
   ],
   "source": [
    "epochs = 10\n",
    "optimizer = torch.optim.Adam(net.parameters(), lr=0.01)\n",
    "target_idx = 1\n",
    "\n",
    "for total_epochs in range(epochs):\n",
    "    \n",
    "    epoch_loss = 0\n",
    "    total_graphs = 0\n",
    "    net.train()\n",
    "    for batch in train_loader:\n",
    "        batch.to(device)\n",
    "        optimizer.zero_grad()\n",
    "        output = net(batch)\n",
    "        loss = F.mse_loss(output, batch.y[:, target_idx].unsqueeze(1))\n",
    "        loss.backward()\n",
    "        epoch_loss += loss.item()\n",
    "        total_graphs += batch.num_graphs\n",
    "        optimizer.step()\n",
    "    \n",
    "    train_avg_loss = epoch_loss / total_graphs\n",
    "    val_loss = 0\n",
    "    total_graphs = 0\n",
    "    net.eval()\n",
    "    for batch in val_loader:\n",
    "        batch.to(device)\n",
    "        output = net(batch)\n",
    "        loss = F.mse_loss(output,batch.y[:, target_idx].unsqueeze(1))\n",
    "        val_loss += loss.item()\n",
    "        total_graphs += batch.num_graphs\n",
    "    val_avg_loss = val_loss / total_graphs\n",
    "    \n",
    "    \n",
    "    print(f\"Epochs: {total_epochs} | epoch avg. loss: {train_avg_loss:.2f} | validation avg. loss: {val_avg_loss:.2}\")"
   ]
  },
  {
   "cell_type": "code",
   "execution_count": 79,
   "metadata": {},
   "outputs": [],
   "source": [
    "net.eval()\n",
    "predictions = []\n",
    "real = []\n",
    "import numpy as np\n",
    "\n",
    "\n",
    "for batch in test_loader:\n",
    "    \n",
    "    output = net(batch.to(device))\n",
    "    predictions.append(output.detach().cpu().numpy())\n",
    "    real.append(batch.y[:, target_idx].detach().cpu().numpy())\n",
    "\n",
    "predictions = np.concatenate(predictions)\n",
    "real = np.concatenate(real)\n",
    "\n"
   ]
  },
  {
   "cell_type": "code",
   "execution_count": 80,
   "metadata": {},
   "outputs": [
    {
     "data": {
      "text/plain": [
       "<matplotlib.collections.PathCollection at 0x7f3ebc3e7350>"
      ]
     },
     "execution_count": 80,
     "metadata": {},
     "output_type": "execute_result"
    },
    {
     "data": {
      "image/png": "[encoded data removed]",
      "text/plain": [
       "<Figure size 640x480 with 1 Axes>"
      ]
     },
     "metadata": {},
     "output_type": "display_data"
    }
   ],
   "source": [
    "import matplotlib.pyplot as plt\n",
    "plt.scatter(real[:500],predictions[:500])"
   ]
  },
  {
   "cell_type": "code",
   "execution_count": null,
   "metadata": {},
   "outputs": [],
   "source": []
  }
 ],
 "metadata": {
  "kernelspec": {
   "display_name": "pyg",
   "language": "python",
   "name": "python3"
  },
  "language_info": {
   "codemirror_mode": {
    "name": "ipython",
    "version": 3
   },
   "file_extension": ".py",
   "mimetype": "text/x-python",
   "name": "python",
   "nbconvert_exporter": "python",
   "pygments_lexer": "ipython3",
   "version": "3.11.5"
  },
  "orig_nbformat": 4
 },
 "nbformat": 4,
 "nbformat_minor": 2
}
